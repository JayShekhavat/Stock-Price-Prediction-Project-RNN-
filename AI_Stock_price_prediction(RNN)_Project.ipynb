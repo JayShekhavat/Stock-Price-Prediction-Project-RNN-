{
  "cells": [
    {
      "cell_type": "markdown",
      "metadata": {
        "id": "view-in-github",
        "colab_type": "text"
      },
      "source": [
        "<a href=\"https://colab.research.google.com/github/JayShekhavat/Stock-Price-Prediction-Project-RNN-/blob/main/AI_Stock_price_prediction(RNN)_Project.ipynb\" target=\"_parent\"><img src=\"https://colab.research.google.com/assets/colab-badge.svg\" alt=\"Open In Colab\"/></a>"
      ]
    },
    {
      "cell_type": "markdown",
      "source": [
        "##**Import important libraries**"
      ],
      "metadata": {
        "id": "4YaKIgxh-GtS"
      }
    },
    {
      "cell_type": "code",
      "source": [
        "import numpy as np\n",
        "import pandas as pd\n",
        "import matplotlib.pyplot as plt\n",
        "from sklearn.preprocessing import MinMaxScaler\n",
        "from tensorflow.keras.models import Sequential\n",
        "from tensorflow.keras.layers import SimpleRNN, Dense\n"
      ],
      "metadata": {
        "id": "1nQspo7V-EKy"
      },
      "execution_count": 1,
      "outputs": []
    },
    {
      "cell_type": "markdown",
      "source": [
        "##**Load csv file with the help of pandas**"
      ],
      "metadata": {
        "id": "RwZSuHY7r07K"
      }
    },
    {
      "cell_type": "code",
      "source": [
        "df = pd.read_csv(\"/content/AXISBANK-BSE.csv\")"
      ],
      "metadata": {
        "id": "_HyG9-2x_Zxx"
      },
      "execution_count": 2,
      "outputs": []
    },
    {
      "cell_type": "code",
      "source": [
        "df.head()"
      ],
      "metadata": {
        "colab": {
          "base_uri": "https://localhost:8080/",
          "height": 206
        },
        "id": "njZBHAlJG7Hr",
        "outputId": "42e8561e-bac0-4ef8-c2b7-30963c638191"
      },
      "execution_count": 3,
      "outputs": [
        {
          "output_type": "execute_result",
          "data": {
            "text/plain": [
              "         date    open    high     low   close    volume  dividend_amount\n",
              "0  2005-01-03  187.00  190.00  185.15  188.95  276055.0              0.0\n",
              "1  2005-01-04  188.05  191.30  187.00  188.05  195660.0              0.0\n",
              "2  2005-01-05  189.00  189.25  176.00  183.60  275045.0              0.0\n",
              "3  2005-01-06  181.00  187.90  177.00  182.50  257265.0              0.0\n",
              "4  2005-01-07  185.80  190.30  182.25  189.10  387115.0              0.0"
            ],
            "text/html": [
              "\n",
              "  <div id=\"df-5ad15e84-b5c0-48ab-b537-9ae6f916eaf8\" class=\"colab-df-container\">\n",
              "    <div>\n",
              "<style scoped>\n",
              "    .dataframe tbody tr th:only-of-type {\n",
              "        vertical-align: middle;\n",
              "    }\n",
              "\n",
              "    .dataframe tbody tr th {\n",
              "        vertical-align: top;\n",
              "    }\n",
              "\n",
              "    .dataframe thead th {\n",
              "        text-align: right;\n",
              "    }\n",
              "</style>\n",
              "<table border=\"1\" class=\"dataframe\">\n",
              "  <thead>\n",
              "    <tr style=\"text-align: right;\">\n",
              "      <th></th>\n",
              "      <th>date</th>\n",
              "      <th>open</th>\n",
              "      <th>high</th>\n",
              "      <th>low</th>\n",
              "      <th>close</th>\n",
              "      <th>volume</th>\n",
              "      <th>dividend_amount</th>\n",
              "    </tr>\n",
              "  </thead>\n",
              "  <tbody>\n",
              "    <tr>\n",
              "      <th>0</th>\n",
              "      <td>2005-01-03</td>\n",
              "      <td>187.00</td>\n",
              "      <td>190.00</td>\n",
              "      <td>185.15</td>\n",
              "      <td>188.95</td>\n",
              "      <td>276055.0</td>\n",
              "      <td>0.0</td>\n",
              "    </tr>\n",
              "    <tr>\n",
              "      <th>1</th>\n",
              "      <td>2005-01-04</td>\n",
              "      <td>188.05</td>\n",
              "      <td>191.30</td>\n",
              "      <td>187.00</td>\n",
              "      <td>188.05</td>\n",
              "      <td>195660.0</td>\n",
              "      <td>0.0</td>\n",
              "    </tr>\n",
              "    <tr>\n",
              "      <th>2</th>\n",
              "      <td>2005-01-05</td>\n",
              "      <td>189.00</td>\n",
              "      <td>189.25</td>\n",
              "      <td>176.00</td>\n",
              "      <td>183.60</td>\n",
              "      <td>275045.0</td>\n",
              "      <td>0.0</td>\n",
              "    </tr>\n",
              "    <tr>\n",
              "      <th>3</th>\n",
              "      <td>2005-01-06</td>\n",
              "      <td>181.00</td>\n",
              "      <td>187.90</td>\n",
              "      <td>177.00</td>\n",
              "      <td>182.50</td>\n",
              "      <td>257265.0</td>\n",
              "      <td>0.0</td>\n",
              "    </tr>\n",
              "    <tr>\n",
              "      <th>4</th>\n",
              "      <td>2005-01-07</td>\n",
              "      <td>185.80</td>\n",
              "      <td>190.30</td>\n",
              "      <td>182.25</td>\n",
              "      <td>189.10</td>\n",
              "      <td>387115.0</td>\n",
              "      <td>0.0</td>\n",
              "    </tr>\n",
              "  </tbody>\n",
              "</table>\n",
              "</div>\n",
              "    <div class=\"colab-df-buttons\">\n",
              "\n",
              "  <div class=\"colab-df-container\">\n",
              "    <button class=\"colab-df-convert\" onclick=\"convertToInteractive('df-5ad15e84-b5c0-48ab-b537-9ae6f916eaf8')\"\n",
              "            title=\"Convert this dataframe to an interactive table.\"\n",
              "            style=\"display:none;\">\n",
              "\n",
              "  <svg xmlns=\"http://www.w3.org/2000/svg\" height=\"24px\" viewBox=\"0 -960 960 960\">\n",
              "    <path d=\"M120-120v-720h720v720H120Zm60-500h600v-160H180v160Zm220 220h160v-160H400v160Zm0 220h160v-160H400v160ZM180-400h160v-160H180v160Zm440 0h160v-160H620v160ZM180-180h160v-160H180v160Zm440 0h160v-160H620v160Z\"/>\n",
              "  </svg>\n",
              "    </button>\n",
              "\n",
              "  <style>\n",
              "    .colab-df-container {\n",
              "      display:flex;\n",
              "      gap: 12px;\n",
              "    }\n",
              "\n",
              "    .colab-df-convert {\n",
              "      background-color: #E8F0FE;\n",
              "      border: none;\n",
              "      border-radius: 50%;\n",
              "      cursor: pointer;\n",
              "      display: none;\n",
              "      fill: #1967D2;\n",
              "      height: 32px;\n",
              "      padding: 0 0 0 0;\n",
              "      width: 32px;\n",
              "    }\n",
              "\n",
              "    .colab-df-convert:hover {\n",
              "      background-color: #E2EBFA;\n",
              "      box-shadow: 0px 1px 2px rgba(60, 64, 67, 0.3), 0px 1px 3px 1px rgba(60, 64, 67, 0.15);\n",
              "      fill: #174EA6;\n",
              "    }\n",
              "\n",
              "    .colab-df-buttons div {\n",
              "      margin-bottom: 4px;\n",
              "    }\n",
              "\n",
              "    [theme=dark] .colab-df-convert {\n",
              "      background-color: #3B4455;\n",
              "      fill: #D2E3FC;\n",
              "    }\n",
              "\n",
              "    [theme=dark] .colab-df-convert:hover {\n",
              "      background-color: #434B5C;\n",
              "      box-shadow: 0px 1px 3px 1px rgba(0, 0, 0, 0.15);\n",
              "      filter: drop-shadow(0px 1px 2px rgba(0, 0, 0, 0.3));\n",
              "      fill: #FFFFFF;\n",
              "    }\n",
              "  </style>\n",
              "\n",
              "    <script>\n",
              "      const buttonEl =\n",
              "        document.querySelector('#df-5ad15e84-b5c0-48ab-b537-9ae6f916eaf8 button.colab-df-convert');\n",
              "      buttonEl.style.display =\n",
              "        google.colab.kernel.accessAllowed ? 'block' : 'none';\n",
              "\n",
              "      async function convertToInteractive(key) {\n",
              "        const element = document.querySelector('#df-5ad15e84-b5c0-48ab-b537-9ae6f916eaf8');\n",
              "        const dataTable =\n",
              "          await google.colab.kernel.invokeFunction('convertToInteractive',\n",
              "                                                    [key], {});\n",
              "        if (!dataTable) return;\n",
              "\n",
              "        const docLinkHtml = 'Like what you see? Visit the ' +\n",
              "          '<a target=\"_blank\" href=https://colab.research.google.com/notebooks/data_table.ipynb>data table notebook</a>'\n",
              "          + ' to learn more about interactive tables.';\n",
              "        element.innerHTML = '';\n",
              "        dataTable['output_type'] = 'display_data';\n",
              "        await google.colab.output.renderOutput(dataTable, element);\n",
              "        const docLink = document.createElement('div');\n",
              "        docLink.innerHTML = docLinkHtml;\n",
              "        element.appendChild(docLink);\n",
              "      }\n",
              "    </script>\n",
              "  </div>\n",
              "\n",
              "\n",
              "<div id=\"df-bc295e30-f7e2-458c-9f48-bf6e0d5a3b9a\">\n",
              "  <button class=\"colab-df-quickchart\" onclick=\"quickchart('df-bc295e30-f7e2-458c-9f48-bf6e0d5a3b9a')\"\n",
              "            title=\"Suggest charts\"\n",
              "            style=\"display:none;\">\n",
              "\n",
              "<svg xmlns=\"http://www.w3.org/2000/svg\" height=\"24px\"viewBox=\"0 0 24 24\"\n",
              "     width=\"24px\">\n",
              "    <g>\n",
              "        <path d=\"M19 3H5c-1.1 0-2 .9-2 2v14c0 1.1.9 2 2 2h14c1.1 0 2-.9 2-2V5c0-1.1-.9-2-2-2zM9 17H7v-7h2v7zm4 0h-2V7h2v10zm4 0h-2v-4h2v4z\"/>\n",
              "    </g>\n",
              "</svg>\n",
              "  </button>\n",
              "\n",
              "<style>\n",
              "  .colab-df-quickchart {\n",
              "      --bg-color: #E8F0FE;\n",
              "      --fill-color: #1967D2;\n",
              "      --hover-bg-color: #E2EBFA;\n",
              "      --hover-fill-color: #174EA6;\n",
              "      --disabled-fill-color: #AAA;\n",
              "      --disabled-bg-color: #DDD;\n",
              "  }\n",
              "\n",
              "  [theme=dark] .colab-df-quickchart {\n",
              "      --bg-color: #3B4455;\n",
              "      --fill-color: #D2E3FC;\n",
              "      --hover-bg-color: #434B5C;\n",
              "      --hover-fill-color: #FFFFFF;\n",
              "      --disabled-bg-color: #3B4455;\n",
              "      --disabled-fill-color: #666;\n",
              "  }\n",
              "\n",
              "  .colab-df-quickchart {\n",
              "    background-color: var(--bg-color);\n",
              "    border: none;\n",
              "    border-radius: 50%;\n",
              "    cursor: pointer;\n",
              "    display: none;\n",
              "    fill: var(--fill-color);\n",
              "    height: 32px;\n",
              "    padding: 0;\n",
              "    width: 32px;\n",
              "  }\n",
              "\n",
              "  .colab-df-quickchart:hover {\n",
              "    background-color: var(--hover-bg-color);\n",
              "    box-shadow: 0 1px 2px rgba(60, 64, 67, 0.3), 0 1px 3px 1px rgba(60, 64, 67, 0.15);\n",
              "    fill: var(--button-hover-fill-color);\n",
              "  }\n",
              "\n",
              "  .colab-df-quickchart-complete:disabled,\n",
              "  .colab-df-quickchart-complete:disabled:hover {\n",
              "    background-color: var(--disabled-bg-color);\n",
              "    fill: var(--disabled-fill-color);\n",
              "    box-shadow: none;\n",
              "  }\n",
              "\n",
              "  .colab-df-spinner {\n",
              "    border: 2px solid var(--fill-color);\n",
              "    border-color: transparent;\n",
              "    border-bottom-color: var(--fill-color);\n",
              "    animation:\n",
              "      spin 1s steps(1) infinite;\n",
              "  }\n",
              "\n",
              "  @keyframes spin {\n",
              "    0% {\n",
              "      border-color: transparent;\n",
              "      border-bottom-color: var(--fill-color);\n",
              "      border-left-color: var(--fill-color);\n",
              "    }\n",
              "    20% {\n",
              "      border-color: transparent;\n",
              "      border-left-color: var(--fill-color);\n",
              "      border-top-color: var(--fill-color);\n",
              "    }\n",
              "    30% {\n",
              "      border-color: transparent;\n",
              "      border-left-color: var(--fill-color);\n",
              "      border-top-color: var(--fill-color);\n",
              "      border-right-color: var(--fill-color);\n",
              "    }\n",
              "    40% {\n",
              "      border-color: transparent;\n",
              "      border-right-color: var(--fill-color);\n",
              "      border-top-color: var(--fill-color);\n",
              "    }\n",
              "    60% {\n",
              "      border-color: transparent;\n",
              "      border-right-color: var(--fill-color);\n",
              "    }\n",
              "    80% {\n",
              "      border-color: transparent;\n",
              "      border-right-color: var(--fill-color);\n",
              "      border-bottom-color: var(--fill-color);\n",
              "    }\n",
              "    90% {\n",
              "      border-color: transparent;\n",
              "      border-bottom-color: var(--fill-color);\n",
              "    }\n",
              "  }\n",
              "</style>\n",
              "\n",
              "  <script>\n",
              "    async function quickchart(key) {\n",
              "      const quickchartButtonEl =\n",
              "        document.querySelector('#' + key + ' button');\n",
              "      quickchartButtonEl.disabled = true;  // To prevent multiple clicks.\n",
              "      quickchartButtonEl.classList.add('colab-df-spinner');\n",
              "      try {\n",
              "        const charts = await google.colab.kernel.invokeFunction(\n",
              "            'suggestCharts', [key], {});\n",
              "      } catch (error) {\n",
              "        console.error('Error during call to suggestCharts:', error);\n",
              "      }\n",
              "      quickchartButtonEl.classList.remove('colab-df-spinner');\n",
              "      quickchartButtonEl.classList.add('colab-df-quickchart-complete');\n",
              "    }\n",
              "    (() => {\n",
              "      let quickchartButtonEl =\n",
              "        document.querySelector('#df-bc295e30-f7e2-458c-9f48-bf6e0d5a3b9a button');\n",
              "      quickchartButtonEl.style.display =\n",
              "        google.colab.kernel.accessAllowed ? 'block' : 'none';\n",
              "    })();\n",
              "  </script>\n",
              "</div>\n",
              "\n",
              "    </div>\n",
              "  </div>\n"
            ],
            "application/vnd.google.colaboratory.intrinsic+json": {
              "type": "dataframe",
              "variable_name": "df",
              "summary": "{\n  \"name\": \"df\",\n  \"rows\": 4083,\n  \"fields\": [\n    {\n      \"column\": \"date\",\n      \"properties\": {\n        \"dtype\": \"object\",\n        \"num_unique_values\": 4083,\n        \"samples\": [\n          \"2007-06-06\",\n          \"2008-01-14\",\n          \"2016-04-11\"\n        ],\n        \"semantic_type\": \"\",\n        \"description\": \"\"\n      }\n    },\n    {\n      \"column\": \"open\",\n      \"properties\": {\n        \"dtype\": \"number\",\n        \"std\": 368.15425184771533,\n        \"min\": 177.8,\n        \"max\": 2037.0,\n        \"num_unique_values\": 2635,\n        \"samples\": [\n          744.9,\n          1389.9,\n          1345.1\n        ],\n        \"semantic_type\": \"\",\n        \"description\": \"\"\n      }\n    },\n    {\n      \"column\": \"high\",\n      \"properties\": {\n        \"dtype\": \"number\",\n        \"std\": 372.89852720452217,\n        \"min\": 184.0,\n        \"max\": 2042.95,\n        \"num_unique_values\": 3166,\n        \"samples\": [\n          884.0,\n          1286.95,\n          251.7\n        ],\n        \"semantic_type\": \"\",\n        \"description\": \"\"\n      }\n    },\n    {\n      \"column\": \"low\",\n      \"properties\": {\n        \"dtype\": \"number\",\n        \"std\": 363.2481059526555,\n        \"min\": 169.1,\n        \"max\": 2003.3,\n        \"num_unique_values\": 3177,\n        \"samples\": [\n          1242.85,\n          1031.1,\n          392.25\n        ],\n        \"semantic_type\": \"\",\n        \"description\": \"\"\n      }\n    },\n    {\n      \"column\": \"close\",\n      \"properties\": {\n        \"dtype\": \"number\",\n        \"std\": 368.11363454371553,\n        \"min\": 174.95,\n        \"max\": 2023.15,\n        \"num_unique_values\": 3701,\n        \"samples\": [\n          749.45,\n          561.75,\n          373.75\n        ],\n        \"semantic_type\": \"\",\n        \"description\": \"\"\n      }\n    },\n    {\n      \"column\": \"volume\",\n      \"properties\": {\n        \"dtype\": \"number\",\n        \"std\": 5289479.352635551,\n        \"min\": 36280.0,\n        \"max\": 263413161.0,\n        \"num_unique_values\": 4071,\n        \"samples\": [\n          593125.0,\n          646370.0,\n          378235.0\n        ],\n        \"semantic_type\": \"\",\n        \"description\": \"\"\n      }\n    },\n    {\n      \"column\": \"dividend_amount\",\n      \"properties\": {\n        \"dtype\": \"number\",\n        \"std\": 0.17960640175472048,\n        \"min\": 0.0,\n        \"max\": 5.0,\n        \"num_unique_values\": 14,\n        \"samples\": [\n          3.6,\n          4.6,\n          0.0\n        ],\n        \"semantic_type\": \"\",\n        \"description\": \"\"\n      }\n    }\n  ]\n}"
            }
          },
          "metadata": {},
          "execution_count": 3
        }
      ]
    },
    {
      "cell_type": "markdown",
      "source": [
        "##**Shape of the dataset**"
      ],
      "metadata": {
        "id": "NsiPiFzWsYsk"
      }
    },
    {
      "cell_type": "code",
      "source": [
        "df.shape"
      ],
      "metadata": {
        "colab": {
          "base_uri": "https://localhost:8080/"
        },
        "id": "sWv-RL2NTdnH",
        "outputId": "676244d3-4942-4eac-e22f-a6525269720a"
      },
      "execution_count": 4,
      "outputs": [
        {
          "output_type": "execute_result",
          "data": {
            "text/plain": [
              "(4083, 7)"
            ]
          },
          "metadata": {},
          "execution_count": 4
        }
      ]
    },
    {
      "cell_type": "markdown",
      "source": [
        "###There are 4083 rows and 7 columns in the dataset"
      ],
      "metadata": {
        "id": "QBrL1uJTtBXY"
      }
    },
    {
      "cell_type": "markdown",
      "source": [
        "##**Find values count of dataset**"
      ],
      "metadata": {
        "id": "CwzRh_RstGKf"
      }
    },
    {
      "cell_type": "code",
      "source": [
        "df.value_counts().sum()"
      ],
      "metadata": {
        "colab": {
          "base_uri": "https://localhost:8080/"
        },
        "id": "NdzsXnjwToBn",
        "outputId": "5fd500e5-62a8-4928-d637-8730b621b815"
      },
      "execution_count": 5,
      "outputs": [
        {
          "output_type": "execute_result",
          "data": {
            "text/plain": [
              "4083"
            ]
          },
          "metadata": {},
          "execution_count": 5
        }
      ]
    },
    {
      "cell_type": "code",
      "source": [
        "df.nunique()"
      ],
      "metadata": {
        "colab": {
          "base_uri": "https://localhost:8080/",
          "height": 303
        },
        "id": "qUJB-fXpUNSQ",
        "outputId": "38dd741f-20b1-4398-b8ee-fcd9c1524199"
      },
      "execution_count": 6,
      "outputs": [
        {
          "output_type": "execute_result",
          "data": {
            "text/plain": [
              "date               4083\n",
              "open               2635\n",
              "high               3166\n",
              "low                3177\n",
              "close              3701\n",
              "volume             4071\n",
              "dividend_amount      14\n",
              "dtype: int64"
            ],
            "text/html": [
              "<div>\n",
              "<style scoped>\n",
              "    .dataframe tbody tr th:only-of-type {\n",
              "        vertical-align: middle;\n",
              "    }\n",
              "\n",
              "    .dataframe tbody tr th {\n",
              "        vertical-align: top;\n",
              "    }\n",
              "\n",
              "    .dataframe thead th {\n",
              "        text-align: right;\n",
              "    }\n",
              "</style>\n",
              "<table border=\"1\" class=\"dataframe\">\n",
              "  <thead>\n",
              "    <tr style=\"text-align: right;\">\n",
              "      <th></th>\n",
              "      <th>0</th>\n",
              "    </tr>\n",
              "  </thead>\n",
              "  <tbody>\n",
              "    <tr>\n",
              "      <th>date</th>\n",
              "      <td>4083</td>\n",
              "    </tr>\n",
              "    <tr>\n",
              "      <th>open</th>\n",
              "      <td>2635</td>\n",
              "    </tr>\n",
              "    <tr>\n",
              "      <th>high</th>\n",
              "      <td>3166</td>\n",
              "    </tr>\n",
              "    <tr>\n",
              "      <th>low</th>\n",
              "      <td>3177</td>\n",
              "    </tr>\n",
              "    <tr>\n",
              "      <th>close</th>\n",
              "      <td>3701</td>\n",
              "    </tr>\n",
              "    <tr>\n",
              "      <th>volume</th>\n",
              "      <td>4071</td>\n",
              "    </tr>\n",
              "    <tr>\n",
              "      <th>dividend_amount</th>\n",
              "      <td>14</td>\n",
              "    </tr>\n",
              "  </tbody>\n",
              "</table>\n",
              "</div><br><label><b>dtype:</b> int64</label>"
            ]
          },
          "metadata": {},
          "execution_count": 6
        }
      ]
    },
    {
      "cell_type": "code",
      "source": [
        "df['dividend_amount'].value_counts()"
      ],
      "metadata": {
        "colab": {
          "base_uri": "https://localhost:8080/",
          "height": 554
        },
        "id": "7oE-VZFFTXLA",
        "outputId": "2d80e892-8af6-49e3-c86d-d844743b9d82"
      },
      "execution_count": 7,
      "outputs": [
        {
          "output_type": "execute_result",
          "data": {
            "text/plain": [
              "dividend_amount\n",
              "0.00    4069\n",
              "5.00       2\n",
              "0.56       1\n",
              "0.70       1\n",
              "0.90       1\n",
              "1.20       1\n",
              "2.00       1\n",
              "2.40       1\n",
              "2.80       1\n",
              "3.20       1\n",
              "3.60       1\n",
              "4.00       1\n",
              "4.60       1\n",
              "1.00       1\n",
              "Name: count, dtype: int64"
            ],
            "text/html": [
              "<div>\n",
              "<style scoped>\n",
              "    .dataframe tbody tr th:only-of-type {\n",
              "        vertical-align: middle;\n",
              "    }\n",
              "\n",
              "    .dataframe tbody tr th {\n",
              "        vertical-align: top;\n",
              "    }\n",
              "\n",
              "    .dataframe thead th {\n",
              "        text-align: right;\n",
              "    }\n",
              "</style>\n",
              "<table border=\"1\" class=\"dataframe\">\n",
              "  <thead>\n",
              "    <tr style=\"text-align: right;\">\n",
              "      <th></th>\n",
              "      <th>count</th>\n",
              "    </tr>\n",
              "    <tr>\n",
              "      <th>dividend_amount</th>\n",
              "      <th></th>\n",
              "    </tr>\n",
              "  </thead>\n",
              "  <tbody>\n",
              "    <tr>\n",
              "      <th>0.00</th>\n",
              "      <td>4069</td>\n",
              "    </tr>\n",
              "    <tr>\n",
              "      <th>5.00</th>\n",
              "      <td>2</td>\n",
              "    </tr>\n",
              "    <tr>\n",
              "      <th>0.56</th>\n",
              "      <td>1</td>\n",
              "    </tr>\n",
              "    <tr>\n",
              "      <th>0.70</th>\n",
              "      <td>1</td>\n",
              "    </tr>\n",
              "    <tr>\n",
              "      <th>0.90</th>\n",
              "      <td>1</td>\n",
              "    </tr>\n",
              "    <tr>\n",
              "      <th>1.20</th>\n",
              "      <td>1</td>\n",
              "    </tr>\n",
              "    <tr>\n",
              "      <th>2.00</th>\n",
              "      <td>1</td>\n",
              "    </tr>\n",
              "    <tr>\n",
              "      <th>2.40</th>\n",
              "      <td>1</td>\n",
              "    </tr>\n",
              "    <tr>\n",
              "      <th>2.80</th>\n",
              "      <td>1</td>\n",
              "    </tr>\n",
              "    <tr>\n",
              "      <th>3.20</th>\n",
              "      <td>1</td>\n",
              "    </tr>\n",
              "    <tr>\n",
              "      <th>3.60</th>\n",
              "      <td>1</td>\n",
              "    </tr>\n",
              "    <tr>\n",
              "      <th>4.00</th>\n",
              "      <td>1</td>\n",
              "    </tr>\n",
              "    <tr>\n",
              "      <th>4.60</th>\n",
              "      <td>1</td>\n",
              "    </tr>\n",
              "    <tr>\n",
              "      <th>1.00</th>\n",
              "      <td>1</td>\n",
              "    </tr>\n",
              "  </tbody>\n",
              "</table>\n",
              "</div><br><label><b>dtype:</b> int64</label>"
            ]
          },
          "metadata": {},
          "execution_count": 7
        }
      ]
    },
    {
      "cell_type": "code",
      "source": [
        "df['dividend_amount'].nunique()"
      ],
      "metadata": {
        "colab": {
          "base_uri": "https://localhost:8080/"
        },
        "id": "-635cpqDTFCB",
        "outputId": "fe95a628-4e75-4e60-dbfa-28070efbfbed"
      },
      "execution_count": 8,
      "outputs": [
        {
          "output_type": "execute_result",
          "data": {
            "text/plain": [
              "14"
            ]
          },
          "metadata": {},
          "execution_count": 8
        }
      ]
    },
    {
      "cell_type": "code",
      "source": [
        "df['dividend_amount'].unique()"
      ],
      "metadata": {
        "colab": {
          "base_uri": "https://localhost:8080/"
        },
        "id": "U9gDmQvDJOMA",
        "outputId": "62aa24b8-e9ea-4a00-a989-135d47706489"
      },
      "execution_count": 9,
      "outputs": [
        {
          "output_type": "execute_result",
          "data": {
            "text/plain": [
              "array([0.  , 0.56, 0.7 , 0.9 , 1.2 , 2.  , 2.4 , 2.8 , 3.2 , 3.6 , 4.  ,\n",
              "       4.6 , 5.  , 1.  ])"
            ]
          },
          "metadata": {},
          "execution_count": 9
        }
      ]
    },
    {
      "cell_type": "markdown",
      "source": [
        "##**Drop 'close' column of dataset in the new dataframe**"
      ],
      "metadata": {
        "id": "HuAKxzqNtXjI"
      }
    },
    {
      "cell_type": "code",
      "source": [
        "df1 = df['close']"
      ],
      "metadata": {
        "id": "xohjp0WAfOK7"
      },
      "execution_count": 10,
      "outputs": []
    },
    {
      "cell_type": "markdown",
      "source": [
        "##**Draw the line plot of new datafram**e"
      ],
      "metadata": {
        "id": "sJpTeEPVtsnm"
      }
    },
    {
      "cell_type": "code",
      "source": [
        "plt.plot(df1)"
      ],
      "metadata": {
        "colab": {
          "base_uri": "https://localhost:8080/",
          "height": 448
        },
        "id": "QFr484uAfYrR",
        "outputId": "a95d946f-080c-4c1a-f282-4104723250b9"
      },
      "execution_count": 11,
      "outputs": [
        {
          "output_type": "execute_result",
          "data": {
            "text/plain": [
              "[<matplotlib.lines.Line2D at 0x7b7e5b1be620>]"
            ]
          },
          "metadata": {},
          "execution_count": 11
        },
        {
          "output_type": "display_data",
          "data": {
            "text/plain": [
              "<Figure size 640x480 with 1 Axes>"
            ],
            "image/png": "[encoded data removed]"
          },
          "metadata": {}
        }
      ]
    },
    {
      "cell_type": "markdown",
      "source": [
        "#**Reshape the 'close' feature of the datatet**"
      ],
      "metadata": {
        "id": "JC_PW53fW21H"
      }
    },
    {
      "cell_type": "code",
      "source": [
        "data = df['close'].values.reshape(-1, 1)"
      ],
      "metadata": {
        "id": "ZTp7hQczWUe4"
      },
      "execution_count": 12,
      "outputs": []
    },
    {
      "cell_type": "code",
      "source": [
        "data"
      ],
      "metadata": {
        "colab": {
          "base_uri": "https://localhost:8080/"
        },
        "id": "8NJO0PXkiZZn",
        "outputId": "8ef646f8-6bd1-41e3-9a6e-3b7537890565"
      },
      "execution_count": 13,
      "outputs": [
        {
          "output_type": "execute_result",
          "data": {
            "text/plain": [
              "array([[188.95],\n",
              "       [188.05],\n",
              "       [183.6 ],\n",
              "       ...,\n",
              "       [722.7 ],\n",
              "       [717.2 ],\n",
              "       [709.  ]])"
            ]
          },
          "metadata": {},
          "execution_count": 13
        }
      ]
    },
    {
      "cell_type": "markdown",
      "source": [
        "#**Normalze the selected data**"
      ],
      "metadata": {
        "id": "eCoWIvCoXCgC"
      }
    },
    {
      "cell_type": "code",
      "source": [
        "scaler = MinMaxScaler(feature_range=(0, 1))\n",
        "scaled_data = scaler.fit_transform(data)"
      ],
      "metadata": {
        "id": "vjYd15DBWUcT"
      },
      "execution_count": 14,
      "outputs": []
    },
    {
      "cell_type": "code",
      "source": [
        "scaled_data"
      ],
      "metadata": {
        "colab": {
          "base_uri": "https://localhost:8080/"
        },
        "id": "F-hFEm55kWu1",
        "outputId": "d86783e5-f5d0-41e0-f30b-94ac0087f4e8"
      },
      "execution_count": 15,
      "outputs": [
        {
          "output_type": "execute_result",
          "data": {
            "text/plain": [
              "array([[0.00757494],\n",
              "       [0.00708798],\n",
              "       [0.00468023],\n",
              "       ...,\n",
              "       [0.29636944],\n",
              "       [0.29339357],\n",
              "       [0.28895682]])"
            ]
          },
          "metadata": {},
          "execution_count": 15
        }
      ]
    },
    {
      "cell_type": "markdown",
      "source": [
        "##**Create a function which make new dataset of 'close' column and store into x and y**"
      ],
      "metadata": {
        "id": "Cm7o0as2uGZw"
      }
    },
    {
      "cell_type": "code",
      "source": [
        "def create_sequences(data, time_steps=60):\n",
        "    X, y = [], []\n",
        "    for i in range(len(data) - time_steps):\n",
        "        X.append(data[i:i+time_steps])\n",
        "        y.append(data[i+time_steps])\n",
        "    return np.array(X), np.array(y)\n",
        "\n",
        "time_steps = 60\n",
        "X, y = create_sequences(scaled_data, time_steps)\n",
        "\n",
        "print(\"Shape of X:\", X.shape)\n",
        "print(\"Shape of y:\", y.shape)"
      ],
      "metadata": {
        "colab": {
          "base_uri": "https://localhost:8080/"
        },
        "id": "axJPsjqaWUZp",
        "outputId": "0db32634-aee4-4108-8060-4769679681b9"
      },
      "execution_count": 16,
      "outputs": [
        {
          "output_type": "stream",
          "name": "stdout",
          "text": [
            "Shape of X: (4023, 60, 1)\n",
            "Shape of y: (4023, 1)\n"
          ]
        }
      ]
    },
    {
      "cell_type": "code",
      "source": [
        "X"
      ],
      "metadata": {
        "colab": {
          "base_uri": "https://localhost:8080/"
        },
        "id": "RgIRBQzxDMbH",
        "outputId": "76c811de-658d-48a4-b90f-0b5ed972d637"
      },
      "execution_count": 17,
      "outputs": [
        {
          "output_type": "execute_result",
          "data": {
            "text/plain": [
              "array([[[0.00757494],\n",
              "        [0.00708798],\n",
              "        [0.00468023],\n",
              "        ...,\n",
              "        [0.0306785 ],\n",
              "        [0.02770263],\n",
              "        [0.03565631]],\n",
              "\n",
              "       [[0.00708798],\n",
              "        [0.00468023],\n",
              "        [0.00408506],\n",
              "        ...,\n",
              "        [0.02770263],\n",
              "        [0.03565631],\n",
              "        [0.03630559]],\n",
              "\n",
              "       [[0.00468023],\n",
              "        [0.00408506],\n",
              "        [0.0076561 ],\n",
              "        ...,\n",
              "        [0.03565631],\n",
              "        [0.03630559],\n",
              "        [0.03468239]],\n",
              "\n",
              "       ...,\n",
              "\n",
              "       [[0.28571042],\n",
              "        [0.28424954],\n",
              "        [0.29336652],\n",
              "        ...,\n",
              "        [0.31398117],\n",
              "        [0.31446813],\n",
              "        [0.3012661 ]],\n",
              "\n",
              "       [[0.28424954],\n",
              "        [0.29336652],\n",
              "        [0.29266313],\n",
              "        ...,\n",
              "        [0.31446813],\n",
              "        [0.3012661 ],\n",
              "        [0.29636944]],\n",
              "\n",
              "       [[0.29336652],\n",
              "        [0.29266313],\n",
              "        [0.29315009],\n",
              "        ...,\n",
              "        [0.3012661 ],\n",
              "        [0.29636944],\n",
              "        [0.29339357]]])"
            ]
          },
          "metadata": {},
          "execution_count": 17
        }
      ]
    },
    {
      "cell_type": "markdown",
      "source": [
        "##**Split the new dataset into train-test**"
      ],
      "metadata": {
        "id": "axWUeADCw-Yj"
      }
    },
    {
      "cell_type": "code",
      "source": [
        "split = int(len(X) * 0.8)\n",
        "X_train, X_test = X[:split], X[split:]\n",
        "y_train, y_test = y[:split], y[split:]\n",
        "\n",
        "print(\"Training samples:\", len(X_train))\n",
        "print(\"Testing samples:\", len(X_test))\n",
        "\n",
        "print(\"Training samples:\", len(y_train))\n",
        "print(\"Testing samples:\", len(y_test))"
      ],
      "metadata": {
        "id": "HObOW4AUWUW_",
        "colab": {
          "base_uri": "https://localhost:8080/"
        },
        "outputId": "531c37ae-8b4b-4956-d736-076a80eb899c"
      },
      "execution_count": 18,
      "outputs": [
        {
          "output_type": "stream",
          "name": "stdout",
          "text": [
            "Training samples: 3218\n",
            "Testing samples: 805\n",
            "Training samples: 3218\n",
            "Testing samples: 805\n"
          ]
        }
      ]
    },
    {
      "cell_type": "markdown",
      "source": [
        "##**Make a model by using Sequential method and add algorithms**"
      ],
      "metadata": {
        "id": "4QKa9tDfxi2D"
      }
    },
    {
      "cell_type": "code",
      "source": [
        "model = Sequential([\n",
        "    SimpleRNN(50, activation='relu', input_shape=(time_steps, 1)),\n",
        "    Dense(1)\n",
        "])"
      ],
      "metadata": {
        "id": "RmfxnpclWUR2",
        "colab": {
          "base_uri": "https://localhost:8080/"
        },
        "outputId": "c2e07b76-1ecd-4681-bb8b-1a02ad5d5ee7"
      },
      "execution_count": 19,
      "outputs": [
        {
          "output_type": "stream",
          "name": "stderr",
          "text": [
            "/usr/local/lib/python3.10/dist-packages/keras/src/layers/rnn/rnn.py:204: UserWarning: Do not pass an `input_shape`/`input_dim` argument to a layer. When using Sequential models, prefer using an `Input(shape)` object as the first layer in the model instead.\n",
            "  super().__init__(**kwargs)\n"
          ]
        }
      ]
    },
    {
      "cell_type": "markdown",
      "source": [
        "##**Compile the model with algorithms like 'adam' and 'lose'**"
      ],
      "metadata": {
        "id": "DvqiATDQyE9S"
      }
    },
    {
      "cell_type": "code",
      "source": [
        "model.compile(optimizer='adam', loss='mse')"
      ],
      "metadata": {
        "id": "lJ3xqlnHx-Qr"
      },
      "execution_count": 20,
      "outputs": []
    },
    {
      "cell_type": "markdown",
      "source": [
        "##**Draw Summary of model**"
      ],
      "metadata": {
        "id": "QyOwklWIydF8"
      }
    },
    {
      "cell_type": "code",
      "source": [
        "model.summary()"
      ],
      "metadata": {
        "colab": {
          "base_uri": "https://localhost:8080/",
          "height": 200
        },
        "id": "uilPkeB2x_Uz",
        "outputId": "fe06bc9a-c053-4fdc-c2d4-eb7cf0aba442"
      },
      "execution_count": 21,
      "outputs": [
        {
          "output_type": "display_data",
          "data": {
            "text/plain": [
              "\u001b[1mModel: \"sequential\"\u001b[0m\n"
            ],
            "text/html": [
              "<pre style=\"white-space:pre;overflow-x:auto;line-height:normal;font-family:Menlo,'DejaVu Sans Mono',consolas,'Courier New',monospace\"><span style=\"font-weight: bold\">Model: \"sequential\"</span>\n",
              "</pre>\n"
            ]
          },
          "metadata": {}
        },
        {
          "output_type": "display_data",
          "data": {
            "text/plain": [
              "┏━━━━━━━━━━━━━━━━━━━━━━━━━━━━━━━━━━━━━━┳━━━━━━━━━━━━━━━━━━━━━━━━━━━━━┳━━━━━━━━━━━━━━━━━┓\n",
              "┃\u001b[1m \u001b[0m\u001b[1mLayer (type)                        \u001b[0m\u001b[1m \u001b[0m┃\u001b[1m \u001b[0m\u001b[1mOutput Shape               \u001b[0m\u001b[1m \u001b[0m┃\u001b[1m \u001b[0m\u001b[1m        Param #\u001b[0m\u001b[1m \u001b[0m┃\n",
              "┡━━━━━━━━━━━━━━━━━━━━━━━━━━━━━━━━━━━━━━╇━━━━━━━━━━━━━━━━━━━━━━━━━━━━━╇━━━━━━━━━━━━━━━━━┩\n",
              "│ simple_rnn (\u001b[38;5;33mSimpleRNN\u001b[0m)               │ (\u001b[38;5;45mNone\u001b[0m, \u001b[38;5;34m50\u001b[0m)                  │           \u001b[38;5;34m2,600\u001b[0m │\n",
              "├──────────────────────────────────────┼─────────────────────────────┼─────────────────┤\n",
              "│ dense (\u001b[38;5;33mDense\u001b[0m)                        │ (\u001b[38;5;45mNone\u001b[0m, \u001b[38;5;34m1\u001b[0m)                   │              \u001b[38;5;34m51\u001b[0m │\n",
              "└──────────────────────────────────────┴─────────────────────────────┴─────────────────┘\n"
            ],
            "text/html": [
              "<pre style=\"white-space:pre;overflow-x:auto;line-height:normal;font-family:Menlo,'DejaVu Sans Mono',consolas,'Courier New',monospace\">┏━━━━━━━━━━━━━━━━━━━━━━━━━━━━━━━━━━━━━━┳━━━━━━━━━━━━━━━━━━━━━━━━━━━━━┳━━━━━━━━━━━━━━━━━┓\n",
              "┃<span style=\"font-weight: bold\"> Layer (type)                         </span>┃<span style=\"font-weight: bold\"> Output Shape                </span>┃<span style=\"font-weight: bold\">         Param # </span>┃\n",
              "┡━━━━━━━━━━━━━━━━━━━━━━━━━━━━━━━━━━━━━━╇━━━━━━━━━━━━━━━━━━━━━━━━━━━━━╇━━━━━━━━━━━━━━━━━┩\n",
              "│ simple_rnn (<span style=\"color: #0087ff; text-decoration-color: #0087ff\">SimpleRNN</span>)               │ (<span style=\"color: #00d7ff; text-decoration-color: #00d7ff\">None</span>, <span style=\"color: #00af00; text-decoration-color: #00af00\">50</span>)                  │           <span style=\"color: #00af00; text-decoration-color: #00af00\">2,600</span> │\n",
              "├──────────────────────────────────────┼─────────────────────────────┼─────────────────┤\n",
              "│ dense (<span style=\"color: #0087ff; text-decoration-color: #0087ff\">Dense</span>)                        │ (<span style=\"color: #00d7ff; text-decoration-color: #00d7ff\">None</span>, <span style=\"color: #00af00; text-decoration-color: #00af00\">1</span>)                   │              <span style=\"color: #00af00; text-decoration-color: #00af00\">51</span> │\n",
              "└──────────────────────────────────────┴─────────────────────────────┴─────────────────┘\n",
              "</pre>\n"
            ]
          },
          "metadata": {}
        },
        {
          "output_type": "display_data",
          "data": {
            "text/plain": [
              "\u001b[1m Total params: \u001b[0m\u001b[38;5;34m2,651\u001b[0m (10.36 KB)\n"
            ],
            "text/html": [
              "<pre style=\"white-space:pre;overflow-x:auto;line-height:normal;font-family:Menlo,'DejaVu Sans Mono',consolas,'Courier New',monospace\"><span style=\"font-weight: bold\"> Total params: </span><span style=\"color: #00af00; text-decoration-color: #00af00\">2,651</span> (10.36 KB)\n",
              "</pre>\n"
            ]
          },
          "metadata": {}
        },
        {
          "output_type": "display_data",
          "data": {
            "text/plain": [
              "\u001b[1m Trainable params: \u001b[0m\u001b[38;5;34m2,651\u001b[0m (10.36 KB)\n"
            ],
            "text/html": [
              "<pre style=\"white-space:pre;overflow-x:auto;line-height:normal;font-family:Menlo,'DejaVu Sans Mono',consolas,'Courier New',monospace\"><span style=\"font-weight: bold\"> Trainable params: </span><span style=\"color: #00af00; text-decoration-color: #00af00\">2,651</span> (10.36 KB)\n",
              "</pre>\n"
            ]
          },
          "metadata": {}
        },
        {
          "output_type": "display_data",
          "data": {
            "text/plain": [
              "\u001b[1m Non-trainable params: \u001b[0m\u001b[38;5;34m0\u001b[0m (0.00 B)\n"
            ],
            "text/html": [
              "<pre style=\"white-space:pre;overflow-x:auto;line-height:normal;font-family:Menlo,'DejaVu Sans Mono',consolas,'Courier New',monospace\"><span style=\"font-weight: bold\"> Non-trainable params: </span><span style=\"color: #00af00; text-decoration-color: #00af00\">0</span> (0.00 B)\n",
              "</pre>\n"
            ]
          },
          "metadata": {}
        }
      ]
    },
    {
      "cell_type": "markdown",
      "source": [
        "##**Fit the train data x and y into model and store into history variable**"
      ],
      "metadata": {
        "id": "iw7Bx4ShynfD"
      }
    },
    {
      "cell_type": "code",
      "source": [
        "history = model.fit(X_train, y_train, epochs=20, batch_size=32, validation_data=(X_test, y_test), verbose=1)"
      ],
      "metadata": {
        "id": "Z2vQR7OQWmTQ",
        "colab": {
          "base_uri": "https://localhost:8080/"
        },
        "outputId": "0fe2e24a-c5f7-404d-b69e-fe4eb3cdb321"
      },
      "execution_count": 22,
      "outputs": [
        {
          "output_type": "stream",
          "name": "stdout",
          "text": [
            "Epoch 1/20\n",
            "\u001b[1m101/101\u001b[0m \u001b[32m━━━━━━━━━━━━━━━━━━━━\u001b[0m\u001b[37m\u001b[0m \u001b[1m3s\u001b[0m 12ms/step - loss: 0.0645 - val_loss: 1.3198e-04\n",
            "Epoch 2/20\n",
            "\u001b[1m101/101\u001b[0m \u001b[32m━━━━━━━━━━━━━━━━━━━━\u001b[0m\u001b[37m\u001b[0m \u001b[1m2s\u001b[0m 10ms/step - loss: 7.9401e-04 - val_loss: 9.6139e-05\n",
            "Epoch 3/20\n",
            "\u001b[1m101/101\u001b[0m \u001b[32m━━━━━━━━━━━━━━━━━━━━\u001b[0m\u001b[37m\u001b[0m \u001b[1m1s\u001b[0m 10ms/step - loss: 5.5488e-04 - val_loss: 8.9217e-05\n",
            "Epoch 4/20\n",
            "\u001b[1m101/101\u001b[0m \u001b[32m━━━━━━━━━━━━━━━━━━━━\u001b[0m\u001b[37m\u001b[0m \u001b[1m1s\u001b[0m 10ms/step - loss: 4.9381e-04 - val_loss: 8.9193e-05\n",
            "Epoch 5/20\n",
            "\u001b[1m101/101\u001b[0m \u001b[32m━━━━━━━━━━━━━━━━━━━━\u001b[0m\u001b[37m\u001b[0m \u001b[1m1s\u001b[0m 10ms/step - loss: 0.0015 - val_loss: 8.7419e-05\n",
            "Epoch 6/20\n",
            "\u001b[1m101/101\u001b[0m \u001b[32m━━━━━━━━━━━━━━━━━━━━\u001b[0m\u001b[37m\u001b[0m \u001b[1m1s\u001b[0m 10ms/step - loss: 7.6209e-04 - val_loss: 7.6001e-05\n",
            "Epoch 7/20\n",
            "\u001b[1m101/101\u001b[0m \u001b[32m━━━━━━━━━━━━━━━━━━━━\u001b[0m\u001b[37m\u001b[0m \u001b[1m1s\u001b[0m 10ms/step - loss: 5.6718e-04 - val_loss: 8.9573e-05\n",
            "Epoch 8/20\n",
            "\u001b[1m101/101\u001b[0m \u001b[32m━━━━━━━━━━━━━━━━━━━━\u001b[0m\u001b[37m\u001b[0m \u001b[1m1s\u001b[0m 10ms/step - loss: 5.9584e-04 - val_loss: 7.5894e-05\n",
            "Epoch 9/20\n",
            "\u001b[1m101/101\u001b[0m \u001b[32m━━━━━━━━━━━━━━━━━━━━\u001b[0m\u001b[37m\u001b[0m \u001b[1m2s\u001b[0m 17ms/step - loss: 6.6439e-04 - val_loss: 7.3166e-05\n",
            "Epoch 10/20\n",
            "\u001b[1m101/101\u001b[0m \u001b[32m━━━━━━━━━━━━━━━━━━━━\u001b[0m\u001b[37m\u001b[0m \u001b[1m2s\u001b[0m 10ms/step - loss: 5.0858e-04 - val_loss: 8.2760e-05\n",
            "Epoch 11/20\n",
            "\u001b[1m101/101\u001b[0m \u001b[32m━━━━━━━━━━━━━━━━━━━━\u001b[0m\u001b[37m\u001b[0m \u001b[1m1s\u001b[0m 10ms/step - loss: 8.1348e-04 - val_loss: 7.0067e-05\n",
            "Epoch 12/20\n",
            "\u001b[1m101/101\u001b[0m \u001b[32m━━━━━━━━━━━━━━━━━━━━\u001b[0m\u001b[37m\u001b[0m \u001b[1m1s\u001b[0m 10ms/step - loss: 9.5955e-04 - val_loss: 8.1667e-05\n",
            "Epoch 13/20\n",
            "\u001b[1m101/101\u001b[0m \u001b[32m━━━━━━━━━━━━━━━━━━━━\u001b[0m\u001b[37m\u001b[0m \u001b[1m1s\u001b[0m 10ms/step - loss: 1.7503e-04 - val_loss: 2.4117e-04\n",
            "Epoch 14/20\n",
            "\u001b[1m101/101\u001b[0m \u001b[32m━━━━━━━━━━━━━━━━━━━━\u001b[0m\u001b[37m\u001b[0m \u001b[1m1s\u001b[0m 10ms/step - loss: 5.5989e-04 - val_loss: 6.7286e-05\n",
            "Epoch 15/20\n",
            "\u001b[1m101/101\u001b[0m \u001b[32m━━━━━━━━━━━━━━━━━━━━\u001b[0m\u001b[37m\u001b[0m \u001b[1m1s\u001b[0m 9ms/step - loss: 3.9151e-04 - val_loss: 6.6904e-05\n",
            "Epoch 16/20\n",
            "\u001b[1m101/101\u001b[0m \u001b[32m━━━━━━━━━━━━━━━━━━━━\u001b[0m\u001b[37m\u001b[0m \u001b[1m1s\u001b[0m 10ms/step - loss: 0.0014 - val_loss: 6.9976e-05\n",
            "Epoch 17/20\n",
            "\u001b[1m101/101\u001b[0m \u001b[32m━━━━━━━━━━━━━━━━━━━━\u001b[0m\u001b[37m\u001b[0m \u001b[1m1s\u001b[0m 9ms/step - loss: 4.8049e-04 - val_loss: 6.4484e-05\n",
            "Epoch 18/20\n",
            "\u001b[1m101/101\u001b[0m \u001b[32m━━━━━━━━━━━━━━━━━━━━\u001b[0m\u001b[37m\u001b[0m \u001b[1m1s\u001b[0m 13ms/step - loss: 2.1787e-04 - val_loss: 9.7081e-05\n",
            "Epoch 19/20\n",
            "\u001b[1m101/101\u001b[0m \u001b[32m━━━━━━━━━━━━━━━━━━━━\u001b[0m\u001b[37m\u001b[0m \u001b[1m2s\u001b[0m 10ms/step - loss: 3.3115e-04 - val_loss: 6.5090e-05\n",
            "Epoch 20/20\n",
            "\u001b[1m101/101\u001b[0m \u001b[32m━━━━━━━━━━━━━━━━━━━━\u001b[0m\u001b[37m\u001b[0m \u001b[1m1s\u001b[0m 10ms/step - loss: 2.7838e-04 - val_loss: 6.4812e-05\n"
          ]
        }
      ]
    },
    {
      "cell_type": "markdown",
      "source": [
        "##**Plot the history data with label 'Training lose' and 'Validation lose'**"
      ],
      "metadata": {
        "id": "oCtES1rZ1-43"
      }
    },
    {
      "cell_type": "code",
      "source": [
        "plt.plot(history.history['loss'], label='Training Loss')\n",
        "plt.plot(history.history['val_loss'], label='Validation Loss')\n",
        "plt.legend()\n",
        "plt.show()"
      ],
      "metadata": {
        "colab": {
          "base_uri": "https://localhost:8080/",
          "height": 430
        },
        "id": "MffLxRFB17qg",
        "outputId": "740fc421-a074-4714-d8d8-d6bbdde345e1"
      },
      "execution_count": 23,
      "outputs": [
        {
          "output_type": "display_data",
          "data": {
            "text/plain": [
              "<Figure size 640x480 with 1 Axes>"
            ],
            "image/png": "[encoded data removed]"
          },
          "metadata": {}
        }
      ]
    },
    {
      "cell_type": "markdown",
      "source": [
        "##**Predict the model by giving 'x_test'**"
      ],
      "metadata": {
        "id": "_3j2Bh5z2YIP"
      }
    },
    {
      "cell_type": "code",
      "source": [
        "y_pred = model.predict(X_test)\n",
        "\n",
        "\n",
        "y_pred_rescaled = scaler.inverse_transform(y_pred)\n",
        "y_test_rescaled = scaler.inverse_transform(y_test.reshape(-1, 1))"
      ],
      "metadata": {
        "id": "cn2Zu1dpWmQ4",
        "colab": {
          "base_uri": "https://localhost:8080/"
        },
        "outputId": "0982cd75-76a7-4176-d286-9cc1b95a738d"
      },
      "execution_count": 24,
      "outputs": [
        {
          "output_type": "stream",
          "name": "stdout",
          "text": [
            "\u001b[1m26/26\u001b[0m \u001b[32m━━━━━━━━━━━━━━━━━━━━\u001b[0m\u001b[37m\u001b[0m \u001b[1m0s\u001b[0m 7ms/step\n"
          ]
        }
      ]
    },
    {
      "cell_type": "code",
      "source": [
        "y_pred"
      ],
      "metadata": {
        "colab": {
          "base_uri": "https://localhost:8080/"
        },
        "id": "UnSnY5ttb9ho",
        "outputId": "b3ac4f7e-ce3c-47e8-9acd-7b72798551b0"
      },
      "execution_count": 25,
      "outputs": [
        {
          "output_type": "execute_result",
          "data": {
            "text/plain": [
              "array([[0.18009453],\n",
              "       [0.1761764 ],\n",
              "       [0.17408292],\n",
              "       [0.19544998],\n",
              "       [0.18973131],\n",
              "       [0.1865892 ],\n",
              "       [0.19662793],\n",
              "       [0.18808588],\n",
              "       [0.19471775],\n",
              "       [0.20000125],\n",
              "       [0.20149791],\n",
              "       [0.2036535 ],\n",
              "       [0.20521915],\n",
              "       [0.20574774],\n",
              "       [0.20404226],\n",
              "       [0.20363098],\n",
              "       [0.19918837],\n",
              "       [0.19488293],\n",
              "       [0.19307515],\n",
              "       [0.18993728],\n",
              "       [0.18799771],\n",
              "       [0.194901  ],\n",
              "       [0.19791757],\n",
              "       [0.2010015 ],\n",
              "       [0.20237425],\n",
              "       [0.19871533],\n",
              "       [0.20057695],\n",
              "       [0.19790891],\n",
              "       [0.19592172],\n",
              "       [0.19392519],\n",
              "       [0.1930026 ],\n",
              "       [0.19948484],\n",
              "       [0.1972457 ],\n",
              "       [0.19761623],\n",
              "       [0.1980332 ],\n",
              "       [0.19799586],\n",
              "       [0.19511238],\n",
              "       [0.19186199],\n",
              "       [0.18959205],\n",
              "       [0.18630673],\n",
              "       [0.18721643],\n",
              "       [0.18457687],\n",
              "       [0.18919162],\n",
              "       [0.18643585],\n",
              "       [0.18362346],\n",
              "       [0.18230848],\n",
              "       [0.17941746],\n",
              "       [0.18245704],\n",
              "       [0.18367335],\n",
              "       [0.18299578],\n",
              "       [0.18466052],\n",
              "       [0.18326974],\n",
              "       [0.18424053],\n",
              "       [0.18960194],\n",
              "       [0.19387864],\n",
              "       [0.19641334],\n",
              "       [0.19705698],\n",
              "       [0.19083098],\n",
              "       [0.1894372 ],\n",
              "       [0.19743393],\n",
              "       [0.19081168],\n",
              "       [0.19029607],\n",
              "       [0.19648443],\n",
              "       [0.19844055],\n",
              "       [0.20165329],\n",
              "       [0.1949474 ],\n",
              "       [0.19847603],\n",
              "       [0.2067726 ],\n",
              "       [0.21257894],\n",
              "       [0.20569903],\n",
              "       [0.20085493],\n",
              "       [0.20319651],\n",
              "       [0.2154015 ],\n",
              "       [0.22844344],\n",
              "       [0.2275728 ],\n",
              "       [0.22867401],\n",
              "       [0.24013849],\n",
              "       [0.24032338],\n",
              "       [0.23356754],\n",
              "       [0.23866788],\n",
              "       [0.24393292],\n",
              "       [0.24579982],\n",
              "       [0.24414359],\n",
              "       [0.24898173],\n",
              "       [0.24979822],\n",
              "       [0.2512992 ],\n",
              "       [0.25741255],\n",
              "       [0.26309276],\n",
              "       [0.2626505 ],\n",
              "       [0.25804025],\n",
              "       [0.25708938],\n",
              "       [0.24963288],\n",
              "       [0.2512214 ],\n",
              "       [0.2522398 ],\n",
              "       [0.25182658],\n",
              "       [0.2558887 ],\n",
              "       [0.2588175 ],\n",
              "       [0.258982  ],\n",
              "       [0.25157705],\n",
              "       [0.24952708],\n",
              "       [0.24631864],\n",
              "       [0.23643163],\n",
              "       [0.23533747],\n",
              "       [0.23201601],\n",
              "       [0.22985171],\n",
              "       [0.23868452],\n",
              "       [0.24059609],\n",
              "       [0.23210052],\n",
              "       [0.23614523],\n",
              "       [0.22983555],\n",
              "       [0.21553943],\n",
              "       [0.22233674],\n",
              "       [0.21623023],\n",
              "       [0.20753236],\n",
              "       [0.20691864],\n",
              "       [0.22238481],\n",
              "       [0.2244852 ],\n",
              "       [0.22157031],\n",
              "       [0.21906465],\n",
              "       [0.22349963],\n",
              "       [0.21945943],\n",
              "       [0.20939964],\n",
              "       [0.21014985],\n",
              "       [0.21145707],\n",
              "       [0.211594  ],\n",
              "       [0.20964725],\n",
              "       [0.19849494],\n",
              "       [0.21093985],\n",
              "       [0.21339901],\n",
              "       [0.21819378],\n",
              "       [0.23225679],\n",
              "       [0.23637997],\n",
              "       [0.24355909],\n",
              "       [0.23676021],\n",
              "       [0.23507206],\n",
              "       [0.23545833],\n",
              "       [0.23876825],\n",
              "       [0.23904337],\n",
              "       [0.24336131],\n",
              "       [0.2425005 ],\n",
              "       [0.23916847],\n",
              "       [0.23814496],\n",
              "       [0.24378015],\n",
              "       [0.24061844],\n",
              "       [0.2455386 ],\n",
              "       [0.24627116],\n",
              "       [0.24521399],\n",
              "       [0.24785395],\n",
              "       [0.24494128],\n",
              "       [0.24433064],\n",
              "       [0.24364842],\n",
              "       [0.23914462],\n",
              "       [0.23233931],\n",
              "       [0.23198704],\n",
              "       [0.22715761],\n",
              "       [0.2318631 ],\n",
              "       [0.24156919],\n",
              "       [0.241656  ],\n",
              "       [0.24149296],\n",
              "       [0.24044143],\n",
              "       [0.24115124],\n",
              "       [0.25099057],\n",
              "       [0.24979968],\n",
              "       [0.24267988],\n",
              "       [0.23939362],\n",
              "       [0.23945133],\n",
              "       [0.24080516],\n",
              "       [0.2439962 ],\n",
              "       [0.2425858 ],\n",
              "       [0.24553198],\n",
              "       [0.24273276],\n",
              "       [0.2354051 ],\n",
              "       [0.2405127 ],\n",
              "       [0.25045937],\n",
              "       [0.25837347],\n",
              "       [0.26782703],\n",
              "       [0.26647645],\n",
              "       [0.26640165],\n",
              "       [0.26400197],\n",
              "       [0.26234904],\n",
              "       [0.26537293],\n",
              "       [0.2710197 ],\n",
              "       [0.26775676],\n",
              "       [0.26379594],\n",
              "       [0.26450357],\n",
              "       [0.26453656],\n",
              "       [0.2656474 ],\n",
              "       [0.2674026 ],\n",
              "       [0.26265043],\n",
              "       [0.26342648],\n",
              "       [0.2775481 ],\n",
              "       [0.2950773 ],\n",
              "       [0.29670393],\n",
              "       [0.2957015 ],\n",
              "       [0.29915303],\n",
              "       [0.29847002],\n",
              "       [0.3012266 ],\n",
              "       [0.29715002],\n",
              "       [0.29193443],\n",
              "       [0.28999427],\n",
              "       [0.28503963],\n",
              "       [0.28334188],\n",
              "       [0.27926588],\n",
              "       [0.28054416],\n",
              "       [0.2828164 ],\n",
              "       [0.2852145 ],\n",
              "       [0.2849131 ],\n",
              "       [0.28624132],\n",
              "       [0.28783062],\n",
              "       [0.2902305 ],\n",
              "       [0.29463518],\n",
              "       [0.2920031 ],\n",
              "       [0.28816625],\n",
              "       [0.29923907],\n",
              "       [0.29835138],\n",
              "       [0.30183527],\n",
              "       [0.30428058],\n",
              "       [0.30316344],\n",
              "       [0.3087783 ],\n",
              "       [0.3071093 ],\n",
              "       [0.30755225],\n",
              "       [0.30637902],\n",
              "       [0.31154308],\n",
              "       [0.31888595],\n",
              "       [0.31716433],\n",
              "       [0.31737915],\n",
              "       [0.31151018],\n",
              "       [0.31473476],\n",
              "       [0.31911618],\n",
              "       [0.32690367],\n",
              "       [0.32936916],\n",
              "       [0.3227593 ],\n",
              "       [0.32245705],\n",
              "       [0.31981844],\n",
              "       [0.31964737],\n",
              "       [0.32052568],\n",
              "       [0.3163838 ],\n",
              "       [0.3197366 ],\n",
              "       [0.32030615],\n",
              "       [0.31566554],\n",
              "       [0.319798  ],\n",
              "       [0.32043046],\n",
              "       [0.3237697 ],\n",
              "       [0.3256864 ],\n",
              "       [0.31791782],\n",
              "       [0.31530032],\n",
              "       [0.3144419 ],\n",
              "       [0.30956945],\n",
              "       [0.31680888],\n",
              "       [0.32197994],\n",
              "       [0.31696713],\n",
              "       [0.31720975],\n",
              "       [0.31265223],\n",
              "       [0.30938193],\n",
              "       [0.30676028],\n",
              "       [0.30236056],\n",
              "       [0.30410802],\n",
              "       [0.30395123],\n",
              "       [0.3034367 ],\n",
              "       [0.29923007],\n",
              "       [0.30152115],\n",
              "       [0.3104    ],\n",
              "       [0.32683876],\n",
              "       [0.32846895],\n",
              "       [0.32820413],\n",
              "       [0.3282609 ],\n",
              "       [0.33363464],\n",
              "       [0.3459271 ],\n",
              "       [0.3462799 ],\n",
              "       [0.3439871 ],\n",
              "       [0.34426475],\n",
              "       [0.34456515],\n",
              "       [0.34737194],\n",
              "       [0.35167617],\n",
              "       [0.3472318 ],\n",
              "       [0.34341407],\n",
              "       [0.3469227 ],\n",
              "       [0.34869763],\n",
              "       [0.3485097 ],\n",
              "       [0.35077253],\n",
              "       [0.3430582 ],\n",
              "       [0.33060685],\n",
              "       [0.3274159 ],\n",
              "       [0.32499194],\n",
              "       [0.32551864],\n",
              "       [0.3261486 ],\n",
              "       [0.32147032],\n",
              "       [0.3283748 ],\n",
              "       [0.33417517],\n",
              "       [0.33953112],\n",
              "       [0.344851  ],\n",
              "       [0.34545043],\n",
              "       [0.34324235],\n",
              "       [0.34323314],\n",
              "       [0.34495446],\n",
              "       [0.34443268],\n",
              "       [0.33480808],\n",
              "       [0.3320431 ],\n",
              "       [0.32572624],\n",
              "       [0.3222078 ],\n",
              "       [0.31881973],\n",
              "       [0.3132105 ],\n",
              "       [0.31852946],\n",
              "       [0.31624344],\n",
              "       [0.3100612 ],\n",
              "       [0.30382907],\n",
              "       [0.30020496],\n",
              "       [0.30063972],\n",
              "       [0.2941263 ],\n",
              "       [0.29678798],\n",
              "       [0.3018412 ],\n",
              "       [0.2979878 ],\n",
              "       [0.29174587],\n",
              "       [0.27458185],\n",
              "       [0.2680295 ],\n",
              "       [0.27124897],\n",
              "       [0.266124  ],\n",
              "       [0.27276495],\n",
              "       [0.26698515],\n",
              "       [0.26297516],\n",
              "       [0.26526564],\n",
              "       [0.25848985],\n",
              "       [0.26406533],\n",
              "       [0.2718259 ],\n",
              "       [0.2766306 ],\n",
              "       [0.2726325 ],\n",
              "       [0.2657978 ],\n",
              "       [0.2643509 ],\n",
              "       [0.26520663],\n",
              "       [0.27437323],\n",
              "       [0.27706563],\n",
              "       [0.27390397],\n",
              "       [0.2660676 ],\n",
              "       [0.2645136 ],\n",
              "       [0.2575092 ],\n",
              "       [0.25523713],\n",
              "       [0.25812894],\n",
              "       [0.26806507],\n",
              "       [0.27180102],\n",
              "       [0.2741922 ],\n",
              "       [0.2675851 ],\n",
              "       [0.26925695],\n",
              "       [0.27090597],\n",
              "       [0.25474012],\n",
              "       [0.25515747],\n",
              "       [0.25353992],\n",
              "       [0.2704722 ],\n",
              "       [0.29773647],\n",
              "       [0.2911609 ],\n",
              "       [0.28415552],\n",
              "       [0.28453574],\n",
              "       [0.28420678],\n",
              "       [0.27966586],\n",
              "       [0.27396232],\n",
              "       [0.2694737 ],\n",
              "       [0.2632228 ],\n",
              "       [0.26875898],\n",
              "       [0.27783492],\n",
              "       [0.27279398],\n",
              "       [0.2700944 ],\n",
              "       [0.275493  ],\n",
              "       [0.27982804],\n",
              "       [0.28198442],\n",
              "       [0.28877017],\n",
              "       [0.29106295],\n",
              "       [0.29235274],\n",
              "       [0.29360515],\n",
              "       [0.29013866],\n",
              "       [0.28998658],\n",
              "       [0.3029866 ],\n",
              "       [0.31126225],\n",
              "       [0.30781987],\n",
              "       [0.31079367],\n",
              "       [0.30910826],\n",
              "       [0.30666777],\n",
              "       [0.3108036 ],\n",
              "       [0.30597427],\n",
              "       [0.30114353],\n",
              "       [0.30337152],\n",
              "       [0.29424492],\n",
              "       [0.29378706],\n",
              "       [0.29508317],\n",
              "       [0.29696247],\n",
              "       [0.3099508 ],\n",
              "       [0.31270686],\n",
              "       [0.30797234],\n",
              "       [0.30399665],\n",
              "       [0.31155884],\n",
              "       [0.31523708],\n",
              "       [0.3149489 ],\n",
              "       [0.31420773],\n",
              "       [0.30838957],\n",
              "       [0.30941245],\n",
              "       [0.30573383],\n",
              "       [0.3062697 ],\n",
              "       [0.30407086],\n",
              "       [0.29660645],\n",
              "       [0.30174312],\n",
              "       [0.29644212],\n",
              "       [0.2944503 ],\n",
              "       [0.2976015 ],\n",
              "       [0.30943283],\n",
              "       [0.31381264],\n",
              "       [0.3110721 ],\n",
              "       [0.30932152],\n",
              "       [0.30821782],\n",
              "       [0.30803147],\n",
              "       [0.30920723],\n",
              "       [0.30848202],\n",
              "       [0.3063711 ],\n",
              "       [0.31605765],\n",
              "       [0.3168783 ],\n",
              "       [0.3155853 ],\n",
              "       [0.31378365],\n",
              "       [0.31510735],\n",
              "       [0.31189027],\n",
              "       [0.30067328],\n",
              "       [0.29916036],\n",
              "       [0.2992263 ],\n",
              "       [0.30730408],\n",
              "       [0.3095166 ],\n",
              "       [0.30649492],\n",
              "       [0.31095767],\n",
              "       [0.31099346],\n",
              "       [0.307472  ],\n",
              "       [0.30735633],\n",
              "       [0.3016543 ],\n",
              "       [0.2967216 ],\n",
              "       [0.29365063],\n",
              "       [0.296484  ],\n",
              "       [0.30498376],\n",
              "       [0.30795082],\n",
              "       [0.30704895],\n",
              "       [0.30534658],\n",
              "       [0.30294868],\n",
              "       [0.3019987 ],\n",
              "       [0.29336   ],\n",
              "       [0.29268858],\n",
              "       [0.29807848],\n",
              "       [0.3044811 ],\n",
              "       [0.31188798],\n",
              "       [0.30955294],\n",
              "       [0.31163117],\n",
              "       [0.3153577 ],\n",
              "       [0.31251368],\n",
              "       [0.30755457],\n",
              "       [0.3058975 ],\n",
              "       [0.30458757],\n",
              "       [0.30771935],\n",
              "       [0.31006333],\n",
              "       [0.30251065],\n",
              "       [0.3012446 ],\n",
              "       [0.30184048],\n",
              "       [0.3043089 ],\n",
              "       [0.28942648],\n",
              "       [0.27656642],\n",
              "       [0.27847883],\n",
              "       [0.27652907],\n",
              "       [0.2739546 ],\n",
              "       [0.2645075 ],\n",
              "       [0.24620374],\n",
              "       [0.24134228],\n",
              "       [0.20581973],\n",
              "       [0.20964663],\n",
              "       [0.19078745],\n",
              "       [0.16857137],\n",
              "       [0.16854222],\n",
              "       [0.13955471],\n",
              "       [0.13676937],\n",
              "       [0.08107468],\n",
              "       [0.0651124 ],\n",
              "       [0.08787429],\n",
              "       [0.08851008],\n",
              "       [0.09867428],\n",
              "       [0.10600466],\n",
              "       [0.10990407],\n",
              "       [0.10190739],\n",
              "       [0.08226488],\n",
              "       [0.11302714],\n",
              "       [0.12044652],\n",
              "       [0.12841833],\n",
              "       [0.13571385],\n",
              "       [0.13062347],\n",
              "       [0.13555585],\n",
              "       [0.16352415],\n",
              "       [0.15455899],\n",
              "       [0.13308376],\n",
              "       [0.14112872],\n",
              "       [0.13971376],\n",
              "       [0.1244576 ],\n",
              "       [0.13595086],\n",
              "       [0.15290251],\n",
              "       [0.14397886],\n",
              "       [0.14571454],\n",
              "       [0.12741503],\n",
              "       [0.11566491],\n",
              "       [0.11817259],\n",
              "       [0.11969379],\n",
              "       [0.11337975],\n",
              "       [0.11154161],\n",
              "       [0.11587654],\n",
              "       [0.12884295],\n",
              "       [0.12424724],\n",
              "       [0.11543772],\n",
              "       [0.10288455],\n",
              "       [0.09778026],\n",
              "       [0.10262491],\n",
              "       [0.09900722],\n",
              "       [0.08864537],\n",
              "       [0.09095134],\n",
              "       [0.11440527],\n",
              "       [0.11779952],\n",
              "       [0.11188713],\n",
              "       [0.1207408 ],\n",
              "       [0.1279222 ],\n",
              "       [0.12717573],\n",
              "       [0.1198457 ],\n",
              "       [0.12481731],\n",
              "       [0.13919668],\n",
              "       [0.13373406],\n",
              "       [0.13603085],\n",
              "       [0.13202018],\n",
              "       [0.12627131],\n",
              "       [0.11846374],\n",
              "       [0.1120355 ],\n",
              "       [0.1167239 ],\n",
              "       [0.12514083],\n",
              "       [0.13101357],\n",
              "       [0.13818192],\n",
              "       [0.14582384],\n",
              "       [0.13678801],\n",
              "       [0.13362299],\n",
              "       [0.13693075],\n",
              "       [0.12570816],\n",
              "       [0.12536204],\n",
              "       [0.14051344],\n",
              "       [0.13585226],\n",
              "       [0.13671069],\n",
              "       [0.14204489],\n",
              "       [0.14713237],\n",
              "       [0.14707506],\n",
              "       [0.15062569],\n",
              "       [0.14534597],\n",
              "       [0.14393993],\n",
              "       [0.13428968],\n",
              "       [0.13558947],\n",
              "       [0.14184533],\n",
              "       [0.13999307],\n",
              "       [0.14088419],\n",
              "       [0.14755595],\n",
              "       [0.16404451],\n",
              "       [0.1569979 ],\n",
              "       [0.14608453],\n",
              "       [0.14213108],\n",
              "       [0.14216264],\n",
              "       [0.14461535],\n",
              "       [0.13652079],\n",
              "       [0.13893968],\n",
              "       [0.13414133],\n",
              "       [0.13685556],\n",
              "       [0.14210792],\n",
              "       [0.1397261 ],\n",
              "       [0.1406076 ],\n",
              "       [0.1400492 ],\n",
              "       [0.14754005],\n",
              "       [0.1506474 ],\n",
              "       [0.14800751],\n",
              "       [0.14277707],\n",
              "       [0.14309275],\n",
              "       [0.14742427],\n",
              "       [0.14630842],\n",
              "       [0.14159125],\n",
              "       [0.14452268],\n",
              "       [0.14781049],\n",
              "       [0.15001449],\n",
              "       [0.15641165],\n",
              "       [0.16179214],\n",
              "       [0.17987315],\n",
              "       [0.17684881],\n",
              "       [0.16772506],\n",
              "       [0.17007634],\n",
              "       [0.16400976],\n",
              "       [0.15318787],\n",
              "       [0.1538487 ],\n",
              "       [0.14755785],\n",
              "       [0.13916178],\n",
              "       [0.14805858],\n",
              "       [0.14857663],\n",
              "       [0.14386508],\n",
              "       [0.14963272],\n",
              "       [0.14814734],\n",
              "       [0.14534959],\n",
              "       [0.14647086],\n",
              "       [0.13591546],\n",
              "       [0.12928848],\n",
              "       [0.13374858],\n",
              "       [0.1246165 ],\n",
              "       [0.12913811],\n",
              "       [0.14407161],\n",
              "       [0.13720328],\n",
              "       [0.1351535 ],\n",
              "       [0.14637762],\n",
              "       [0.14650474],\n",
              "       [0.14842285],\n",
              "       [0.15174945],\n",
              "       [0.15064594],\n",
              "       [0.15896495],\n",
              "       [0.15997383],\n",
              "       [0.1549667 ],\n",
              "       [0.16092329],\n",
              "       [0.15776525],\n",
              "       [0.16028123],\n",
              "       [0.17279465],\n",
              "       [0.17289919],\n",
              "       [0.17651902],\n",
              "       [0.18298101],\n",
              "       [0.18074483],\n",
              "       [0.17395917],\n",
              "       [0.18051979],\n",
              "       [0.18064404],\n",
              "       [0.17295341],\n",
              "       [0.17301247],\n",
              "       [0.18775675],\n",
              "       [0.1953813 ],\n",
              "       [0.18989265],\n",
              "       [0.1974757 ],\n",
              "       [0.20098782],\n",
              "       [0.21006842],\n",
              "       [0.22172926],\n",
              "       [0.2339244 ],\n",
              "       [0.23318732],\n",
              "       [0.23485498],\n",
              "       [0.24514143],\n",
              "       [0.25003585],\n",
              "       [0.23875484],\n",
              "       [0.23343062],\n",
              "       [0.22955564],\n",
              "       [0.23907949],\n",
              "       [0.23410177],\n",
              "       [0.23523505],\n",
              "       [0.23500684],\n",
              "       [0.23213427],\n",
              "       [0.23572002],\n",
              "       [0.23268114],\n",
              "       [0.23756817],\n",
              "       [0.24220414],\n",
              "       [0.24168323],\n",
              "       [0.24867138],\n",
              "       [0.24672689],\n",
              "       [0.23853211],\n",
              "       [0.23899098],\n",
              "       [0.23520572],\n",
              "       [0.23393568],\n",
              "       [0.23439427],\n",
              "       [0.23560049],\n",
              "       [0.22473256],\n",
              "       [0.22378105],\n",
              "       [0.22755502],\n",
              "       [0.2353285 ],\n",
              "       [0.24129882],\n",
              "       [0.24635424],\n",
              "       [0.24589399],\n",
              "       [0.2419679 ],\n",
              "       [0.2425692 ],\n",
              "       [0.24397285],\n",
              "       [0.26225576],\n",
              "       [0.26352406],\n",
              "       [0.26677242],\n",
              "       [0.27173194],\n",
              "       [0.26732668],\n",
              "       [0.27125877],\n",
              "       [0.27710387],\n",
              "       [0.27364928],\n",
              "       [0.27192104],\n",
              "       [0.26303425],\n",
              "       [0.26636305],\n",
              "       [0.27269468],\n",
              "       [0.27181086],\n",
              "       [0.2584717 ],\n",
              "       [0.26022172],\n",
              "       [0.2520402 ],\n",
              "       [0.2646574 ],\n",
              "       [0.26897195],\n",
              "       [0.28467447],\n",
              "       [0.2958717 ],\n",
              "       [0.3006508 ],\n",
              "       [0.30919316],\n",
              "       [0.2985133 ],\n",
              "       [0.30244976],\n",
              "       [0.30822212],\n",
              "       [0.3050507 ],\n",
              "       [0.3084521 ],\n",
              "       [0.31159198],\n",
              "       [0.33180296],\n",
              "       [0.33154145],\n",
              "       [0.327249  ],\n",
              "       [0.32852817],\n",
              "       [0.3147152 ],\n",
              "       [0.30092463],\n",
              "       [0.2944076 ],\n",
              "       [0.30709016],\n",
              "       [0.32342073],\n",
              "       [0.30622414],\n",
              "       [0.30065468],\n",
              "       [0.3028502 ],\n",
              "       [0.31104383],\n",
              "       [0.310348  ],\n",
              "       [0.3026772 ],\n",
              "       [0.30771828],\n",
              "       [0.3101367 ],\n",
              "       [0.3174179 ],\n",
              "       [0.3156044 ],\n",
              "       [0.310251  ],\n",
              "       [0.30771643],\n",
              "       [0.30177724],\n",
              "       [0.29692274],\n",
              "       [0.29902855],\n",
              "       [0.29609892],\n",
              "       [0.3011066 ],\n",
              "       [0.2932091 ],\n",
              "       [0.2833859 ],\n",
              "       [0.28458545],\n",
              "       [0.282741  ],\n",
              "       [0.2846528 ],\n",
              "       [0.29139197],\n",
              "       [0.2810092 ],\n",
              "       [0.27404353],\n",
              "       [0.27803364],\n",
              "       [0.2762384 ],\n",
              "       [0.2699462 ],\n",
              "       [0.25237754],\n",
              "       [0.26080793],\n",
              "       [0.2706442 ],\n",
              "       [0.26839194],\n",
              "       [0.25941527],\n",
              "       [0.257611  ],\n",
              "       [0.26342914],\n",
              "       [0.2686921 ],\n",
              "       [0.2823487 ],\n",
              "       [0.28652197],\n",
              "       [0.28904253],\n",
              "       [0.29491803],\n",
              "       [0.29329947],\n",
              "       [0.2888211 ],\n",
              "       [0.28584567],\n",
              "       [0.29217747],\n",
              "       [0.29526263],\n",
              "       [0.29522115],\n",
              "       [0.29463202],\n",
              "       [0.29018524],\n",
              "       [0.28283197],\n",
              "       [0.27779174],\n",
              "       [0.28724897],\n",
              "       [0.2927954 ],\n",
              "       [0.29486558],\n",
              "       [0.29107994],\n",
              "       [0.29827124],\n",
              "       [0.3073454 ],\n",
              "       [0.30431175],\n",
              "       [0.30480152],\n",
              "       [0.3106952 ],\n",
              "       [0.30910677],\n",
              "       [0.31249717],\n",
              "       [0.31129006],\n",
              "       [0.30660516],\n",
              "       [0.3122568 ],\n",
              "       [0.30988887],\n",
              "       [0.31271887],\n",
              "       [0.31250107],\n",
              "       [0.30646175],\n",
              "       [0.30927524],\n",
              "       [0.30726227],\n",
              "       [0.3059332 ],\n",
              "       [0.31224856],\n",
              "       [0.31298354],\n",
              "       [0.30882743],\n",
              "       [0.30614123],\n",
              "       [0.30646437],\n",
              "       [0.30772838],\n",
              "       [0.30483958],\n",
              "       [0.30630305],\n",
              "       [0.3166175 ],\n",
              "       [0.320455  ],\n",
              "       [0.31639093],\n",
              "       [0.3125609 ],\n",
              "       [0.31074244],\n",
              "       [0.3129752 ],\n",
              "       [0.318008  ],\n",
              "       [0.31850156],\n",
              "       [0.31995827],\n",
              "       [0.3170577 ],\n",
              "       [0.312338  ],\n",
              "       [0.31435454],\n",
              "       [0.32217595],\n",
              "       [0.32499614],\n",
              "       [0.3265992 ],\n",
              "       [0.3254415 ],\n",
              "       [0.31778896],\n",
              "       [0.31198612],\n",
              "       [0.31073138],\n",
              "       [0.31490055],\n",
              "       [0.3173622 ],\n",
              "       [0.30699205],\n",
              "       [0.2991795 ],\n",
              "       [0.29549918]], dtype=float32)"
            ]
          },
          "metadata": {},
          "execution_count": 25
        }
      ]
    },
    {
      "cell_type": "code",
      "source": [
        "X_test"
      ],
      "metadata": {
        "colab": {
          "base_uri": "https://localhost:8080/"
        },
        "id": "aw5HiHcrKv7O",
        "outputId": "17711d9d-9d29-4934-cc01-84ffae294b16"
      },
      "execution_count": 26,
      "outputs": [
        {
          "output_type": "execute_result",
          "data": {
            "text/plain": [
              "array([[[0.23425495],\n",
              "        [0.23742019],\n",
              "        [0.23290228],\n",
              "        ...,\n",
              "        [0.17903907],\n",
              "        [0.17936371],\n",
              "        [0.17871442]],\n",
              "\n",
              "       [[0.23742019],\n",
              "        [0.23290228],\n",
              "        [0.22640948],\n",
              "        ...,\n",
              "        [0.17936371],\n",
              "        [0.17871442],\n",
              "        [0.17500812]],\n",
              "\n",
              "       [[0.23290228],\n",
              "        [0.22640948],\n",
              "        [0.22640948],\n",
              "        ...,\n",
              "        [0.17871442],\n",
              "        [0.17500812],\n",
              "        [0.17292501]],\n",
              "\n",
              "       ...,\n",
              "\n",
              "       [[0.28571042],\n",
              "        [0.28424954],\n",
              "        [0.29336652],\n",
              "        ...,\n",
              "        [0.31398117],\n",
              "        [0.31446813],\n",
              "        [0.3012661 ]],\n",
              "\n",
              "       [[0.28424954],\n",
              "        [0.29336652],\n",
              "        [0.29266313],\n",
              "        ...,\n",
              "        [0.31446813],\n",
              "        [0.3012661 ],\n",
              "        [0.29636944]],\n",
              "\n",
              "       [[0.29336652],\n",
              "        [0.29266313],\n",
              "        [0.29315009],\n",
              "        ...,\n",
              "        [0.3012661 ],\n",
              "        [0.29636944],\n",
              "        [0.29339357]]])"
            ]
          },
          "metadata": {},
          "execution_count": 26
        }
      ]
    },
    {
      "cell_type": "markdown",
      "source": [
        "##**Plot a figure with line plot to show 'Stock price prediction' of Actual stock price and Predicted stock price**  "
      ],
      "metadata": {
        "id": "PimAc9G12orf"
      }
    },
    {
      "cell_type": "code",
      "source": [
        "plt.figure(figsize=(12, 6))\n",
        "plt.plot(y_test_rescaled, label='Actual Stock Price')\n",
        "plt.plot(y_pred_rescaled, label='Predicted Stock Price', alpha=0.7)\n",
        "plt.title(\"Stock Price Prediction\")\n",
        "plt.xlabel(\"Time\")\n",
        "plt.ylabel(\"Stock Price\")\n",
        "plt.legend()\n",
        "plt.show()"
      ],
      "metadata": {
        "id": "1wTEV_BPWmOd",
        "colab": {
          "base_uri": "https://localhost:8080/",
          "height": 564
        },
        "outputId": "e133f2f1-94d6-4817-9588-89eea708e91b"
      },
      "execution_count": 27,
      "outputs": [
        {
          "output_type": "display_data",
          "data": {
            "text/plain": [
              "<Figure size 1200x600 with 1 Axes>"
            ],
            "image/png": "[encoded data removed]"
          },
          "metadata": {}
        }
      ]
    },
    {
      "cell_type": "markdown",
      "source": [
        "###In the above figure Actual stock price and Predicted stock price are same with time"
      ],
      "metadata": {
        "id": "QD_QDiqE3YIn"
      }
    },
    {
      "cell_type": "markdown",
      "source": [
        "##**Evaluste mean absolute error and mean square error of model**"
      ],
      "metadata": {
        "id": "ukK5X6SZ3rFv"
      }
    },
    {
      "cell_type": "code",
      "source": [
        "from sklearn.metrics import mean_squared_error, mean_absolute_error\n",
        "\n",
        "mse = mean_squared_error(y_test_rescaled, y_pred_rescaled)\n",
        "mae = mean_absolute_error(y_test_rescaled, y_pred_rescaled)\n",
        "\n",
        "print(f\"Mean Squared Error: {mse}\")\n",
        "print(f\"Mean Absolute Error: {mae}\")"
      ],
      "metadata": {
        "id": "HSI_jvCaWu5F",
        "colab": {
          "base_uri": "https://localhost:8080/"
        },
        "outputId": "b92beaf0-1f30-4ce3-e1cc-33dbfe143944"
      },
      "execution_count": 28,
      "outputs": [
        {
          "output_type": "stream",
          "name": "stdout",
          "text": [
            "Mean Squared Error: 221.3875573742894\n",
            "Mean Absolute Error: 10.78665491708317\n"
          ]
        }
      ]
    },
    {
      "cell_type": "markdown",
      "source": [
        "##**Conclusion**\n",
        "This is the **Stock Price Prediction project**. In this project, I used many libraries and algorithms to make a model by using RNN method. I apply many steps  in sequentially and find MSE and MAE which values are **215.62** and **10.46** respectively."
      ],
      "metadata": {
        "id": "b__q4Sia4FxH"
      }
    }
  ],
  "metadata": {
    "colab": {
      "provenance": [],
      "authorship_tag": "ABX9TyPnvOS6S31ul7aumJ7EEUuR",
      "include_colab_link": true
    },
    "kernelspec": {
      "display_name": "Python 3",
      "name": "python3"
    },
    "language_info": {
      "name": "python"
    }
  },
  "nbformat": 4,
  "nbformat_minor": 0
}